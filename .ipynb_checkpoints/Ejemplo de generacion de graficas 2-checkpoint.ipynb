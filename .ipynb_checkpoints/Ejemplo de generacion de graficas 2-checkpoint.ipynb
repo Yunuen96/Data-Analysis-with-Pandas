{
 "cells": [
  {
   "cell_type": "markdown",
   "metadata": {},
   "source": [
    "<hr>\n",
    "<h1> Ejercicio de Graficación</h1>\n",
    "<hr>"
   ]
  },
  {
   "cell_type": "code",
   "execution_count": 1,
   "metadata": {
    "scrolled": true
   },
   "outputs": [
    {
     "data": {
      "text/html": [
       "<div>\n",
       "<style scoped>\n",
       "    .dataframe tbody tr th:only-of-type {\n",
       "        vertical-align: middle;\n",
       "    }\n",
       "\n",
       "    .dataframe tbody tr th {\n",
       "        vertical-align: top;\n",
       "    }\n",
       "\n",
       "    .dataframe thead th {\n",
       "        text-align: right;\n",
       "    }\n",
       "</style>\n",
       "<table border=\"1\" class=\"dataframe\">\n",
       "  <thead>\n",
       "    <tr style=\"text-align: right;\">\n",
       "      <th></th>\n",
       "      <th>Year</th>\n",
       "      <th>Rank</th>\n",
       "      <th>Company</th>\n",
       "      <th>Revenue (in millions)</th>\n",
       "      <th>Profit (in millions)</th>\n",
       "    </tr>\n",
       "  </thead>\n",
       "  <tbody>\n",
       "    <tr>\n",
       "      <th>0</th>\n",
       "      <td>1955</td>\n",
       "      <td>1</td>\n",
       "      <td>General Motors</td>\n",
       "      <td>9823.5</td>\n",
       "      <td>806</td>\n",
       "    </tr>\n",
       "    <tr>\n",
       "      <th>1</th>\n",
       "      <td>1955</td>\n",
       "      <td>2</td>\n",
       "      <td>Exxon Mobil</td>\n",
       "      <td>5661.4</td>\n",
       "      <td>584.8</td>\n",
       "    </tr>\n",
       "    <tr>\n",
       "      <th>2</th>\n",
       "      <td>1955</td>\n",
       "      <td>3</td>\n",
       "      <td>U.S. Steel</td>\n",
       "      <td>3250.4</td>\n",
       "      <td>195.4</td>\n",
       "    </tr>\n",
       "    <tr>\n",
       "      <th>3</th>\n",
       "      <td>1955</td>\n",
       "      <td>4</td>\n",
       "      <td>General Electric</td>\n",
       "      <td>2959.1</td>\n",
       "      <td>212.6</td>\n",
       "    </tr>\n",
       "    <tr>\n",
       "      <th>4</th>\n",
       "      <td>1955</td>\n",
       "      <td>5</td>\n",
       "      <td>Esmark</td>\n",
       "      <td>2510.8</td>\n",
       "      <td>19.1</td>\n",
       "    </tr>\n",
       "  </tbody>\n",
       "</table>\n",
       "</div>"
      ],
      "text/plain": [
       "   Year  Rank           Company  Revenue (in millions) Profit (in millions)\n",
       "0  1955     1    General Motors                 9823.5                  806\n",
       "1  1955     2       Exxon Mobil                 5661.4                584.8\n",
       "2  1955     3        U.S. Steel                 3250.4                195.4\n",
       "3  1955     4  General Electric                 2959.1                212.6\n",
       "4  1955     5            Esmark                 2510.8                 19.1"
      ]
     },
     "execution_count": 1,
     "metadata": {},
     "output_type": "execute_result"
    }
   ],
   "source": [
    "# Cargando librería Pandas\n",
    "import pandas as pd\n",
    "# Cargando librería Matplotlib\n",
    "import matplotlib.pyplot as plt\n",
    "# Cargando complemento de Matplotlib\n",
    "import seaborn as sns\n",
    "\n",
    "# Permite generar la gráfica en una celda\n",
    "sns.set(style=\"darkgrid\")\n",
    "\n",
    "df = pd.read_csv('datos.csv')\n",
    "df.head()"
   ]
  },
  {
   "cell_type": "code",
   "execution_count": 2,
   "metadata": {},
   "outputs": [
    {
     "data": {
      "text/plain": [
       "25500"
      ]
     },
     "execution_count": 2,
     "metadata": {},
     "output_type": "execute_result"
    }
   ],
   "source": [
    "len(df)"
   ]
  },
  {
   "cell_type": "code",
   "execution_count": 3,
   "metadata": {},
   "outputs": [
    {
     "data": {
      "text/plain": [
       "Year                       int64\n",
       "Rank                       int64\n",
       "Company                   object\n",
       "Revenue (in millions)    float64\n",
       "Profit (in millions)      object\n",
       "dtype: object"
      ]
     },
     "execution_count": 3,
     "metadata": {},
     "output_type": "execute_result"
    }
   ],
   "source": [
    "df.dtypes"
   ]
  },
  {
   "cell_type": "code",
   "execution_count": 4,
   "metadata": {},
   "outputs": [],
   "source": [
    "# Nombrando las columnas\n",
    "df.columns=['Año','Posicion','Compañia','Ingresos','Capital']"
   ]
  },
  {
   "cell_type": "code",
   "execution_count": 5,
   "metadata": {},
   "outputs": [
    {
     "data": {
      "text/html": [
       "<div>\n",
       "<style scoped>\n",
       "    .dataframe tbody tr th:only-of-type {\n",
       "        vertical-align: middle;\n",
       "    }\n",
       "\n",
       "    .dataframe tbody tr th {\n",
       "        vertical-align: top;\n",
       "    }\n",
       "\n",
       "    .dataframe thead th {\n",
       "        text-align: right;\n",
       "    }\n",
       "</style>\n",
       "<table border=\"1\" class=\"dataframe\">\n",
       "  <thead>\n",
       "    <tr style=\"text-align: right;\">\n",
       "      <th></th>\n",
       "      <th>Año</th>\n",
       "      <th>Posicion</th>\n",
       "      <th>Compañia</th>\n",
       "      <th>Ingresos</th>\n",
       "      <th>Capital</th>\n",
       "    </tr>\n",
       "  </thead>\n",
       "  <tbody>\n",
       "    <tr>\n",
       "      <th>25495</th>\n",
       "      <td>2005</td>\n",
       "      <td>496</td>\n",
       "      <td>Wm. Wrigley Jr.</td>\n",
       "      <td>3648.6</td>\n",
       "      <td>493</td>\n",
       "    </tr>\n",
       "    <tr>\n",
       "      <th>25496</th>\n",
       "      <td>2005</td>\n",
       "      <td>497</td>\n",
       "      <td>Peabody Energy</td>\n",
       "      <td>3631.6</td>\n",
       "      <td>175.4</td>\n",
       "    </tr>\n",
       "    <tr>\n",
       "      <th>25497</th>\n",
       "      <td>2005</td>\n",
       "      <td>498</td>\n",
       "      <td>Wendy's International</td>\n",
       "      <td>3630.4</td>\n",
       "      <td>57.8</td>\n",
       "    </tr>\n",
       "    <tr>\n",
       "      <th>25498</th>\n",
       "      <td>2005</td>\n",
       "      <td>499</td>\n",
       "      <td>Kindred Healthcare</td>\n",
       "      <td>3616.6</td>\n",
       "      <td>70.6</td>\n",
       "    </tr>\n",
       "    <tr>\n",
       "      <th>25499</th>\n",
       "      <td>2005</td>\n",
       "      <td>500</td>\n",
       "      <td>Cincinnati Financial</td>\n",
       "      <td>3614.0</td>\n",
       "      <td>584</td>\n",
       "    </tr>\n",
       "  </tbody>\n",
       "</table>\n",
       "</div>"
      ],
      "text/plain": [
       "        Año  Posicion               Compañia  Ingresos Capital\n",
       "25495  2005       496        Wm. Wrigley Jr.    3648.6     493\n",
       "25496  2005       497         Peabody Energy    3631.6   175.4\n",
       "25497  2005       498  Wendy's International    3630.4    57.8\n",
       "25498  2005       499     Kindred Healthcare    3616.6    70.6\n",
       "25499  2005       500   Cincinnati Financial    3614.0     584"
      ]
     },
     "execution_count": 5,
     "metadata": {},
     "output_type": "execute_result"
    }
   ],
   "source": [
    "df.tail()"
   ]
  },
  {
   "cell_type": "code",
   "execution_count": 6,
   "metadata": {},
   "outputs": [],
   "source": [
    "# Buscar las filas donde Capital es un valor no numérico\n",
    "no_capital = df.Capital.str.contains('[^0-9.-]')"
   ]
  },
  {
   "cell_type": "code",
   "execution_count": 7,
   "metadata": {},
   "outputs": [
    {
     "data": {
      "text/html": [
       "<div>\n",
       "<style scoped>\n",
       "    .dataframe tbody tr th:only-of-type {\n",
       "        vertical-align: middle;\n",
       "    }\n",
       "\n",
       "    .dataframe tbody tr th {\n",
       "        vertical-align: top;\n",
       "    }\n",
       "\n",
       "    .dataframe thead th {\n",
       "        text-align: right;\n",
       "    }\n",
       "</style>\n",
       "<table border=\"1\" class=\"dataframe\">\n",
       "  <thead>\n",
       "    <tr style=\"text-align: right;\">\n",
       "      <th></th>\n",
       "      <th>Año</th>\n",
       "      <th>Posicion</th>\n",
       "      <th>Compañia</th>\n",
       "      <th>Ingresos</th>\n",
       "      <th>Capital</th>\n",
       "    </tr>\n",
       "  </thead>\n",
       "  <tbody>\n",
       "    <tr>\n",
       "      <th>228</th>\n",
       "      <td>1955</td>\n",
       "      <td>229</td>\n",
       "      <td>Norton</td>\n",
       "      <td>135.0</td>\n",
       "      <td>N.A.</td>\n",
       "    </tr>\n",
       "    <tr>\n",
       "      <th>290</th>\n",
       "      <td>1955</td>\n",
       "      <td>291</td>\n",
       "      <td>Schlitz Brewing</td>\n",
       "      <td>100.0</td>\n",
       "      <td>N.A.</td>\n",
       "    </tr>\n",
       "    <tr>\n",
       "      <th>294</th>\n",
       "      <td>1955</td>\n",
       "      <td>295</td>\n",
       "      <td>Pacific Vegetable Oil</td>\n",
       "      <td>97.9</td>\n",
       "      <td>N.A.</td>\n",
       "    </tr>\n",
       "    <tr>\n",
       "      <th>296</th>\n",
       "      <td>1955</td>\n",
       "      <td>297</td>\n",
       "      <td>Liebmann Breweries</td>\n",
       "      <td>96.0</td>\n",
       "      <td>N.A.</td>\n",
       "    </tr>\n",
       "    <tr>\n",
       "      <th>352</th>\n",
       "      <td>1955</td>\n",
       "      <td>353</td>\n",
       "      <td>Minneapolis-Moline</td>\n",
       "      <td>77.4</td>\n",
       "      <td>N.A.</td>\n",
       "    </tr>\n",
       "  </tbody>\n",
       "</table>\n",
       "</div>"
      ],
      "text/plain": [
       "      Año  Posicion               Compañia  Ingresos Capital\n",
       "228  1955       229                 Norton     135.0    N.A.\n",
       "290  1955       291        Schlitz Brewing     100.0    N.A.\n",
       "294  1955       295  Pacific Vegetable Oil      97.9    N.A.\n",
       "296  1955       297     Liebmann Breweries      96.0    N.A.\n",
       "352  1955       353     Minneapolis-Moline      77.4    N.A."
      ]
     },
     "execution_count": 7,
     "metadata": {},
     "output_type": "execute_result"
    }
   ],
   "source": [
    "df.loc[no_capital].head()"
   ]
  },
  {
   "cell_type": "code",
   "execution_count": 8,
   "metadata": {},
   "outputs": [
    {
     "data": {
      "text/plain": [
       "1.4470588235294117"
      ]
     },
     "execution_count": 8,
     "metadata": {},
     "output_type": "execute_result"
    }
   ],
   "source": [
    "# Determinando que porcentaje d elas filas tienen un valor no numérico en la columna capital\n",
    "(len(df.Capital[no_capital])/len(df))*100"
   ]
  },
  {
   "cell_type": "code",
   "execution_count": null,
   "metadata": {},
   "outputs": [],
   "source": [
    "set(df.Capital[no_capital])\n",
    "valores,anios, barras = plt.hist(df.Año[no_capital], df.Año)\n",
    "# Valores -> valores graficados (de 0 minimo a 24 máximo) valores de Capital faltantes por año en el archivo csv\n",
    "# máximo 25 valores faltantes por año (5%) no es significativo"
   ]
  },
  {
   "cell_type": "code",
   "execution_count": null,
   "metadata": {},
   "outputs": [],
   "source": [
    "df = df.loc[~no_capital]\n",
    "df.Capital\n",
    "len(df)\n",
    "# Se cambió a númerico el tipo de datos de la comlumna Capital\n",
    "df.dtypes"
   ]
  },
  {
   "cell_type": "code",
   "execution_count": null,
   "metadata": {},
   "outputs": [],
   "source": [
    "# ---------------------------------------\n",
    "# Graficar las  ganancias de las compañías\n",
    "#---------------------------------------\n",
    "agrupar_año = df.loc[:,\n",
    "                    ['Año','Ingresos','Capital']].groupby('Año')\n",
    "promedio = agrupar_año.mean()\n",
    "x = promedio.index\n",
    "y = promedio.Capital\n",
    "#print(y) para comprobar los datos agrupados\n",
    "\n",
    "def graficar(x, y, ax, titulo, y_label):\n",
    "    #Asignar un título a la gráfica\n",
    "    ax.set_title(titulo)\n",
    "    #Asignar el título a los ejes y, x\n",
    "    ax.set_ylabel(y_label)\n",
    "    ax.set_xlabel(\"Años\")\n",
    "    #Desplegar la gráfica considerando los valores de x e y\n",
    "    ax.plot(x,y)\n",
    "    #Fijar el \"padding\" a cada uno de los límites de los ejes\n",
    "    ax.margins(x=0,y=0)\n",
    "    \n",
    "fig, ax = plt.subplots()\n",
    "graficar(x,y,ax,\"Ganancias entre 1955 al 2005 de las Compañías\",\"Ganancias\")\n",
    "#Graficar las  ganancias de las compañías\n",
    "#---------------------------------------\n",
    "agrupar_año = df.loc[:,\n",
    "                    ['Año','Ingresos','Capital']].groupby('Año')\n",
    "promedio = agrupar_año.mean()\n",
    "x = promedio.index\n",
    "y = promedio.Capital\n",
    "#print(y) para comprobar los datos agrupados\n",
    "\n",
    "def graficar(x, y, ax, titulo, y_label):\n",
    "    #Asignar un título a la gráfica\n",
    "    ax.set_title(titulo)\n",
    "    #Asignar el título a los ejes y, x\n",
    "    ax.set_ylabel(y_label)\n",
    "    ax.set_xlabel(\"Años\")\n",
    "    #Desplegar la gráfica considerando los valores de x e y\n",
    "    ax.plot(x,y)\n",
    "    #Fijar el \"padding\" a cada uno de los límites de los ejes\n",
    "    ax.margins(x=0,y=0)\n",
    "    \n",
    "fig, ax = plt.subplots()\n",
    "graficar(x,y,ax,\"Ganancias entre 1955 al 2005 de las Compañías\",\"Ganancias\")"
   ]
  },
  {
   "cell_type": "code",
   "execution_count": null,
   "metadata": {},
   "outputs": [],
   "source": [
    "# Graficar el incremento promedio de los ingresos\n",
    "y = promedio.Ingresos\n",
    "fig, ax = plt.subplots()\n",
    "graficar(x, y2, ax, \"Incremento promedio de ingresos entre 1\",\n",
    "                     \"Ingreso (Millones)\")"
   ]
  },
  {
   "cell_type": "code",
   "execution_count": null,
   "metadata": {},
   "outputs": [],
   "source": [
    "# Graficar la media y la desviación estándar\n",
    "def graficar_dev_estandar(x,y,est,ax,titulo,y_label):\n",
    "    ax.fill_between(x,y-est,y+est,alpha=0.2)\n",
    "    graficar(x,y,ax,titulo,y_label)\n",
    "    \n",
    "fig, (ax1, ax2) = plt.subplots(ncols=2)\n",
    "titulo = \" %s: Incremento en media y estándar para\"\\\n",
    "         \"las compañías desde 1955 a 2005\"\n",
    "est1 = agrupar_año.std().Capital.values\n",
    "est2 = agrupar_año.std().Ingresos.values\n",
    "graficar_dev_estandar(x,y,est1,ax1,titulo % 'Ganancias', 'Ganancias (Millones)')\n",
    "graficar_dev_estandar(x, y, est2, ax2, titulo % 'Ganancias','Ganancia (Millones)')\n"
   ]
  },
  {
   "cell_type": "code",
   "execution_count": null,
   "metadata": {},
   "outputs": [],
   "source": []
  }
 ],
 "metadata": {
  "kernelspec": {
   "display_name": "Python 3",
   "language": "python",
   "name": "python3"
  },
  "language_info": {
   "codemirror_mode": {
    "name": "ipython",
    "version": 3
   },
   "file_extension": ".py",
   "mimetype": "text/x-python",
   "name": "python",
   "nbconvert_exporter": "python",
   "pygments_lexer": "ipython3",
   "version": "3.7.3"
  }
 },
 "nbformat": 4,
 "nbformat_minor": 2
}
